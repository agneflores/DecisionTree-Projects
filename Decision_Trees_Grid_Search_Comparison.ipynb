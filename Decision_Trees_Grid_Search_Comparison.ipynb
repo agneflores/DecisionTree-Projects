{
 "cells": [
  {
   "cell_type": "markdown",
   "metadata": {},
   "source": [
    "## Grid Searching Decision Trees\n"
   ]
  },
  {
   "cell_type": "markdown",
   "metadata": {},
   "source": [
    "### Objective\n",
    "\n",
    "The objective of this notebook is to perform and compare different hyperparameter search techniques for a DecisionTreeClassifier, including GridSearchCV and its alternatives provided by scikit-learn. These alternatives aim to optimize the search process, saving computational resources and time compared to the exhaustive brute force approach. The notebook will evaluate and discuss the performance and time efficiency of each method, with a focus on the relative speed of the searches, acknowledging that actual times may vary depending on individual computing power."
   ]
  },
  {
   "cell_type": "markdown",
   "metadata": {},
   "source": [
    "### Comparing Grid Searches\n",
    "\n",
    "This notebook will explore four grid search options for tuning the parameters of a DecisionTreeClassifier using the same set of parameters. Each grid search tool has a .cv_results_ attribute that includes timing information. By examining this attribute, we will compare the time taken by each search method and discuss which is the most efficient for identifying the best hyperparameters. The search methods to be compared are:\n",
    "\n",
    "- `GridSearchCV`\n",
    "- `RandomizedSearchCV`\n",
    "- `HalvingGridSearchCV`\n",
    "- `HalvingRandomSearchCV`\n",
    " "
   ]
  },
  {
   "cell_type": "markdown",
   "metadata": {},
   "source": [
    "### Time Comparison\n",
    "\n",
    "#### GridSearchCV: \n",
    "Typically the most time-consuming because it exhaustively searches over all parameter combinations.\n",
    "\n",
    "#### RandomizedSearchCV: \n",
    "Faster than GridSearchCV because it only evaluates a subset of parameter combinations.\n",
    "\n",
    "#### HalvingGridSearchCV: \n",
    "More efficient than GridSearchCV by iteratively pruning less promising configurations.\n",
    "\n",
    "#### HalvingRandomSearchCV: \n",
    "Combines the efficiency of halving search with the randomness of RandomizedSearchCV, often faster than the standard randomized search.\n",
    "\n",
    "### Best Score Comparison\n",
    "\n",
    "#### Best Score: \n",
    "Indicates the highest cross-validation score achieved by each search method. While GridSearchCV might explore all possible combinations, RandomizedSearchCV and Halving methods might achieve similar or even better scores with less computational effort."
   ]
  },
  {
   "cell_type": "markdown",
   "metadata": {},
   "source": [
    "### Analysis Outline\n",
    "\n",
    "To explore and compare the four grid search options for DecisionTreeClassifier (i.e., GridSearchCV, RandomizedSearchCV, HalvingGridSearchCV, and HalvingRandomSearchCV), we will perform the following steps:\n",
    "\n",
    "#### Import required libraries\n",
    "\n",
    "#### Setup the dataset: \n",
    "Ensure the dataset is loaded and preprocessed.\n",
    "\n",
    "#### Define parameter grid: \n",
    "Specify the hyperparameters to search over.\n",
    "\n",
    "#### Perform grid searches: \n",
    "Use each grid search method to find the best hyperparameters.\n",
    "\n",
    "#### Compare the results: \n",
    "Compare the time taken and the scores of the best estimators.\n",
    "\n",
    "#### Visualize the results: \n",
    "Plot the comparison."
   ]
  },
  {
   "cell_type": "markdown",
   "metadata": {},
   "source": [
    "### Step 1: Import Libraties and Set Up Parameters"
   ]
  },
  {
   "cell_type": "code",
   "execution_count": 25,
   "metadata": {},
   "outputs": [],
   "source": [
    "import pandas as pd\n",
    "import numpy as np\n",
    "import matplotlib.pyplot as plt\n",
    "import seaborn as sns\n",
    "import time\n",
    "\n",
    "from sklearn.experimental import enable_halving_search_cv\n",
    "from sklearn.utils.fixes import loguniform\n",
    "from sklearn.preprocessing import LabelEncoder, StandardScaler\n",
    "from sklearn.tree import DecisionTreeClassifier, export_text, plot_tree\n",
    "from sklearn.model_selection import train_test_split, GridSearchCV, RandomizedSearchCV, HalvingGridSearchCV, HalvingRandomSearchCV"
   ]
  },
  {
   "cell_type": "code",
   "execution_count": 27,
   "metadata": {},
   "outputs": [],
   "source": [
    "dtree = DecisionTreeClassifier()"
   ]
  },
  {
   "cell_type": "markdown",
   "metadata": {},
   "source": [
    "### Step 2: Load the Dataset"
   ]
  },
  {
   "cell_type": "code",
   "execution_count": 28,
   "metadata": {},
   "outputs": [],
   "source": [
    "#load the dataset\n",
    "data = pd.read_csv(r'C:\\Users\\agnek\\OneDrive\\Documents\\Educational_Training Materials\\Berkeley Haas\\Codio\\Module14\\Whickham.txt')"
   ]
  },
  {
   "cell_type": "code",
   "execution_count": 29,
   "metadata": {},
   "outputs": [
    {
     "name": "stdout",
     "output_type": "stream",
     "text": [
      "<class 'pandas.core.frame.DataFrame'>\n",
      "RangeIndex: 1314 entries, 0 to 1313\n",
      "Data columns (total 3 columns):\n",
      " #   Column   Non-Null Count  Dtype \n",
      "---  ------   --------------  ----- \n",
      " 0   outcome  1314 non-null   object\n",
      " 1   smoker   1314 non-null   object\n",
      " 2   age      1314 non-null   int64 \n",
      "dtypes: int64(1), object(2)\n",
      "memory usage: 30.9+ KB\n"
     ]
    },
    {
     "data": {
      "text/html": [
       "<div>\n",
       "<style scoped>\n",
       "    .dataframe tbody tr th:only-of-type {\n",
       "        vertical-align: middle;\n",
       "    }\n",
       "\n",
       "    .dataframe tbody tr th {\n",
       "        vertical-align: top;\n",
       "    }\n",
       "\n",
       "    .dataframe thead th {\n",
       "        text-align: right;\n",
       "    }\n",
       "</style>\n",
       "<table border=\"1\" class=\"dataframe\">\n",
       "  <thead>\n",
       "    <tr style=\"text-align: right;\">\n",
       "      <th></th>\n",
       "      <th>outcome</th>\n",
       "      <th>smoker</th>\n",
       "      <th>age</th>\n",
       "    </tr>\n",
       "  </thead>\n",
       "  <tbody>\n",
       "    <tr>\n",
       "      <th>0</th>\n",
       "      <td>Alive</td>\n",
       "      <td>Yes</td>\n",
       "      <td>23</td>\n",
       "    </tr>\n",
       "    <tr>\n",
       "      <th>1</th>\n",
       "      <td>Alive</td>\n",
       "      <td>Yes</td>\n",
       "      <td>18</td>\n",
       "    </tr>\n",
       "    <tr>\n",
       "      <th>2</th>\n",
       "      <td>Dead</td>\n",
       "      <td>Yes</td>\n",
       "      <td>71</td>\n",
       "    </tr>\n",
       "    <tr>\n",
       "      <th>3</th>\n",
       "      <td>Alive</td>\n",
       "      <td>No</td>\n",
       "      <td>67</td>\n",
       "    </tr>\n",
       "    <tr>\n",
       "      <th>4</th>\n",
       "      <td>Alive</td>\n",
       "      <td>No</td>\n",
       "      <td>64</td>\n",
       "    </tr>\n",
       "  </tbody>\n",
       "</table>\n",
       "</div>"
      ],
      "text/plain": [
       "  outcome smoker  age\n",
       "0   Alive    Yes   23\n",
       "1   Alive    Yes   18\n",
       "2    Dead    Yes   71\n",
       "3   Alive     No   67\n",
       "4   Alive     No   64"
      ]
     },
     "execution_count": 29,
     "metadata": {},
     "output_type": "execute_result"
    }
   ],
   "source": [
    "data.info()\n",
    "data.head()"
   ]
  },
  {
   "cell_type": "markdown",
   "metadata": {},
   "source": [
    "### Step 3: Ecode and Split the Data"
   ]
  },
  {
   "cell_type": "code",
   "execution_count": 30,
   "metadata": {},
   "outputs": [],
   "source": [
    "# Create a LabelEncoder instance\n",
    "label_encoder = LabelEncoder()\n",
    "\n",
    "# Encode the 'outcome' and 'smoker' columns separately\n",
    "data['outcome'] = label_encoder.fit_transform(data['outcome'])\n",
    "data['smoker'] = label_encoder.fit_transform(data['smoker'])\n"
   ]
  },
  {
   "cell_type": "code",
   "execution_count": 31,
   "metadata": {},
   "outputs": [],
   "source": [
    "# Prepare the data\n",
    "X = data.drop(columns=['outcome'])  # Features\n",
    "y = data['outcome']  # Target\n",
    "\n",
    "# Split the data into training and testing sets\n",
    "X_train, X_test, y_train, y_test = train_test_split(X, y, test_size=0.3, random_state=42)"
   ]
  },
  {
   "cell_type": "markdown",
   "metadata": {},
   "source": [
    "### Step 4: Define Parameter Grid"
   ]
  },
  {
   "cell_type": "code",
   "execution_count": 32,
   "metadata": {},
   "outputs": [],
   "source": [
    "# Define the parameter grid\n",
    "param_grid = {\n",
    "    'max_depth': [1, 2, 4, 6, 8, 10, None],\n",
    "    'min_samples_split': [2, 5, 10],\n",
    "    'min_samples_leaf': [1, 2, 4],\n",
    "    'criterion': ['gini', 'entropy']\n",
    "}"
   ]
  },
  {
   "cell_type": "markdown",
   "metadata": {},
   "source": [
    "### Code Review\n",
    "\n",
    "#### Definition of param_grid:\n",
    "param_grid is a dictionary that defines a grid of hyperparameters for a DecisionTreeClassifier. This grid will be used to perform hyperparameter tuning, typically with grid search methods such as GridSearchCV, RandomizedSearchCV, HalvingGridSearchCV, or HalvingRandomSearchCV.\n",
    "\n",
    "#### Hyperparameter: max_depth:\n",
    "'max_depth': Specifies the maximum depth of the tree. If None, nodes are expanded until all leaves are pure or until all leaves contain less than min_samples_split samples.\n",
    "\n",
    "#### [1, 2, 4, 6, 8, 10, None]: \n",
    "A list of values that max_depth will take during the search. It includes specific depths (1, 2, 4, 6, 8, 10) and None which means the tree can grow until it cannot split any further.\n",
    "\n",
    "#### Hyperparameter: min_samples_split:\n",
    "'min_samples_split': Specifies the minimum number of samples required to split an internal node.\n",
    "\n",
    "#### [2, 5, 10]: \n",
    "A list of values that min_samples_split will take during the search. It includes values 2, 5, and 10. Higher values prevent the model from learning overly specific patterns (overfitting).\n",
    "\n",
    "#### Hyperparameter: min_samples_leaf:\n",
    "'min_samples_leaf': Specifies the minimum number of samples that a leaf node must have.\n",
    "[1, 2, 4]: A list of values that min_samples_leaf will take during the search. It includes values 1, 2, and 4. Setting this parameter can prevent overfitting by ensuring leaf nodes have a minimum number of samples.\n",
    "\n",
    "#### Hyperparameter: criterion:\n",
    "'criterion': Specifies the function to measure the quality of a split.\n",
    "\n",
    "#### ['gini', 'entropy']: \n",
    "A list of criteria that will be used to evaluate the splits. gini refers to the Gini impurity, and entropy refers to the information gain (entropy). These are the two criteria provided by DecisionTreeClassifier to choose the best split at each node.\n",
    "\n",
    "### Purpose\n",
    "The purpose of defining param_grid is to provide a range of values for the hyperparameters of the DecisionTreeClassifier that will be explored during the grid search. By evaluating the model with different combinations of these hyperparameters, the goal is to find the combination that yields the best performance on the validation set."
   ]
  },
  {
   "cell_type": "markdown",
   "metadata": {},
   "source": [
    "### Step 5: Perform Grid Searches"
   ]
  },
  {
   "cell_type": "code",
   "execution_count": 34,
   "metadata": {},
   "outputs": [],
   "source": [
    "# List to store results\n",
    "results = []\n",
    "\n",
    "# GridSearchCV\n",
    "start_time = time.time()\n",
    "grid_search = GridSearchCV(DecisionTreeClassifier(), param_grid, cv=5)\n",
    "grid_search.fit(X_train, y_train)\n",
    "elapsed_time = time.time() - start_time\n",
    "results.append(('GridSearchCV', grid_search.cv_results_, elapsed_time))\n",
    "\n",
    "# RandomizedSearchCV\n",
    "start_time = time.time()\n",
    "random_search = RandomizedSearchCV(DecisionTreeClassifier(), param_distributions=param_grid, n_iter=50, cv=5, random_state=42)\n",
    "random_search.fit(X_train, y_train)\n",
    "elapsed_time = time.time() - start_time\n",
    "results.append(('RandomizedSearchCV', random_search.cv_results_, elapsed_time))\n",
    "\n",
    "# HalvingGridSearchCV\n",
    "start_time = time.time()\n",
    "halving_grid_search = HalvingGridSearchCV(DecisionTreeClassifier(), param_grid, cv=5, factor=3, random_state=42)\n",
    "halving_grid_search.fit(X_train, y_train)\n",
    "elapsed_time = time.time() - start_time\n",
    "results.append(('HalvingGridSearchCV', halving_grid_search.cv_results_, elapsed_time))\n",
    "\n",
    "# HalvingRandomSearchCV\n",
    "start_time = time.time()\n",
    "halving_random_search = HalvingRandomSearchCV(DecisionTreeClassifier(), param_distributions=param_grid, factor=3, random_state=42)\n",
    "halving_random_search.fit(X_train, y_train)\n",
    "elapsed_time = time.time() - start_time\n",
    "results.append(('HalvingRandomSearchCV', halving_random_search.cv_results_, elapsed_time))"
   ]
  },
  {
   "cell_type": "markdown",
   "metadata": {},
   "source": [
    "### Step 6:Compare the Results"
   ]
  },
  {
   "cell_type": "code",
   "execution_count": 35,
   "metadata": {},
   "outputs": [
    {
     "name": "stdout",
     "output_type": "stream",
     "text": [
      "           Search Method  Best Score  Time (seconds)\n",
      "0           GridSearchCV    0.841144        1.625905\n",
      "1     RandomizedSearchCV    0.841144        0.610745\n",
      "2    HalvingGridSearchCV    0.871429        2.645748\n",
      "3  HalvingRandomSearchCV    0.882540        0.981531\n"
     ]
    }
   ],
   "source": [
    "# Collect the best scores and times\n",
    "search_methods = ['GridSearchCV', 'RandomizedSearchCV', 'HalvingGridSearchCV', 'HalvingRandomSearchCV']\n",
    "best_scores = []\n",
    "times = []\n",
    "\n",
    "for method, result, elapsed_time in results:\n",
    "    best_index = np.argmax(result['mean_test_score'])\n",
    "    best_score = result['mean_test_score'][best_index]\n",
    "    best_scores.append(best_score)\n",
    "    times.append(elapsed_time)\n",
    "\n",
    "# Create a DataFrame for the results\n",
    "df_results = pd.DataFrame({\n",
    "    'Search Method': search_methods,\n",
    "    'Best Score': best_scores,\n",
    "    'Time (seconds)': times\n",
    "})\n",
    "\n",
    "print(df_results)"
   ]
  },
  {
   "cell_type": "markdown",
   "metadata": {},
   "source": [
    "### Step 7: Visualize the Results"
   ]
  },
  {
   "cell_type": "code",
   "execution_count": 37,
   "metadata": {},
   "outputs": [
    {
     "data": {
      "image/png": "[encoded data removed]",
      "text/plain": [
       "<Figure size 1200x600 with 2 Axes>"
      ]
     },
     "metadata": {},
     "output_type": "display_data"
    }
   ],
   "source": [
    "# Plot the comparison\n",
    "fig, ax1 = plt.subplots(figsize=(12, 6))\n",
    "\n",
    "color = 'tab:blue'\n",
    "ax1.set_xlabel('Search Method')\n",
    "ax1.set_ylabel('Time (seconds)', color=color)\n",
    "ax1.bar(df_results['Search Method'], df_results['Time (seconds)'], color=color, alpha=0.6)\n",
    "ax1.tick_params(axis='y', labelcolor=color)\n",
    "\n",
    "ax2 = ax1.twinx()  \n",
    "color = 'tab:red'\n",
    "ax2.set_ylabel('Best Score', color=color)  \n",
    "ax2.plot(df_results['Search Method'], df_results['Best Score'], color=color, marker='o')\n",
    "ax2.tick_params(axis='y', labelcolor=color)\n",
    "\n",
    "fig.tight_layout()  \n",
    "plt.title('Comparison of Grid Search Methods')\n",
    "plt.show()\n"
   ]
  },
  {
   "cell_type": "markdown",
   "metadata": {},
   "source": [
    "### Analysis\n",
    "\n",
    "#### GridSearchCV:\n",
    "\n",
    "Best Score: 0.841144\n",
    "Time (seconds): 1.625905\n",
    "Interpretation: GridSearchCV achieved a good score but took a moderate amount of time. It exhaustively searched over all parameter combinations, which is thorough but time-consuming.\n",
    "\n",
    "#### RandomizedSearchCV:\n",
    "\n",
    "Best Score: 0.841144\n",
    "Time (seconds): 0.610745\n",
    "Interpretation: RandomizedSearchCV achieved the same score as GridSearchCV but in significantly less time. This indicates that a random subset of parameter combinations was sufficient to find a good model, making it more efficient than GridSearchCV.\n",
    "\n",
    "#### HalvingGridSearchCV:\n",
    "\n",
    "Best Score: 0.871429\n",
    "Time (seconds): 2.645748\n",
    "Interpretation: HalvingGridSearchCV achieved a higher score than both GridSearchCV and RandomizedSearchCV, but it took the most time. This method prunes less promising parameter combinations iteratively, resulting in a more accurate model but at the cost of increased computation time.\n",
    "\n",
    "#### HalvingRandomSearchCV:\n",
    "\n",
    "Best Score: 0.882540\n",
    "Time (seconds): 0.981531\n",
    "Interpretation: HalvingRandomSearchCV achieved the highest score among all methods and in less time than HalvingGridSearchCV. This approach combines the efficiency of randomized search with iterative pruning, providing the best balance between model performance and search time.\n",
    "\n",
    "### Conclusion\n",
    "\n",
    "#### Best Performing Method: \n",
    "HalvingRandomSearchCV achieved the highest best score (0.882540) in a reasonable amount of time (0.981531 seconds). It strikes the best balance between performance and efficiency, making it the most effective method for this dataset and parameter grid.\n",
    "\n",
    "#### Efficiency: \n",
    "RandomizedSearchCV is the most time-efficient method, achieving a decent score (same as GridSearchCV) in the least amount of time (0.610745 seconds).\n",
    "\n",
    "#### Comprehensive Search: \n",
    "While GridSearchCV ensures a thorough search, it is less efficient compared to the other methods. HalvingGridSearchCV, although more time-consuming, yields a better score by focusing on promising parameter combinations.\n",
    "\n",
    "### Recommendations\n",
    "\n",
    "#### For Quick Searches: \n",
    "Use RandomizedSearchCV for a fast and efficient search if computational resources are limited or a quick result is needed.\n",
    "For Best Performance: Use HalvingRandomSearchCV to achieve the highest model performance with a balanced approach to search time.\n",
    "\n",
    "#### For Thorough Searches: \n",
    "Consider GridSearchCV or HalvingGridSearchCV when exhaustive search or a slightly more thorough exploration of parameter combinations is necessary.\n",
    "\n",
    "\n",
    "\n",
    "\n",
    "\n",
    "\n"
   ]
  },
  {
   "cell_type": "code",
   "execution_count": null,
   "metadata": {},
   "outputs": [],
   "source": []
  }
 ],
 "metadata": {
  "kernelspec": {
   "display_name": "Python 3 (ipykernel)",
   "language": "python",
   "name": "python3"
  },
  "language_info": {
   "codemirror_mode": {
    "name": "ipython",
    "version": 3
   },
   "file_extension": ".py",
   "mimetype": "text/x-python",
   "name": "python",
   "nbconvert_exporter": "python",
   "pygments_lexer": "ipython3",
   "version": "3.9.13"
  },
  "widgets": {
   "application/vnd.jupyter.widget-state+json": {
    "state": {},
    "version_major": 2,
    "version_minor": 0
   }
  }
 },
 "nbformat": 4,
 "nbformat_minor": 4
}
